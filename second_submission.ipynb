{
 "cells": [
  {
   "cell_type": "code",
   "execution_count": 1,
   "metadata": {
    "collapsed": true
   },
   "outputs": [],
   "source": [
    "from matplotlib import pyplot\n",
    "import pandas as pd\n",
    "import numpy as np\n",
    "from datetime import datetime\n",
    "from geopy.distance import vincenty\n",
    "from geopy.distance import great_circle\n",
    "import math"
   ]
  },
  {
   "cell_type": "code",
   "execution_count": 2,
   "metadata": {
    "collapsed": true
   },
   "outputs": [],
   "source": [
    "train=pd.read_csv('/home/harsh/dataset/train.csv')\n",
    "train_fare=train['fare_amount']\n",
    "\n",
    "# test=pd.read_csv('test.csv')"
   ]
  },
  {
   "cell_type": "code",
   "execution_count": 3,
   "metadata": {},
   "outputs": [
    {
     "name": "stdout",
     "output_type": "stream",
     "text": [
      "harsh\n",
      "0    0.0\n",
      "dtype: float64\n",
      "kara\n"
     ]
    }
   ],
   "source": [
    "[nr,nc]=train.shape\n",
    "\n",
    "temp=train['tip_amount'].mode()\n",
    "print 'harsh'\n",
    "print temp\n",
    "print 'kara'\n",
    "# train['tip_amount'].fillna(0.0,inplace=True)\n",
    "# print train.isnull().sum()\n",
    "\n",
    "\n"
   ]
  },
  {
   "cell_type": "code",
   "execution_count": null,
   "metadata": {},
   "outputs": [],
   "source": [
    "a=pd.DataFrame(np.ones((3,1)))\n",
    "a['cv']=[1,3,2]\n",
    "a['klp']=a['poi']=np.ones(3)\n",
    "a"
   ]
  },
  {
   "cell_type": "code",
   "execution_count": 12,
   "metadata": {},
   "outputs": [],
   "source": [
    "fmt='%Y-%m-%d %H:%M:%S'\n",
    "# train['pickup_datetime']=train['pickup_datetime'].apply(args=[fmt],func=datetime.strptime)\n",
    "# print 1\n",
    "# train['dropoff_datetime']=train['dropoff_datetime'].apply(args=[fmt],func=datetime.strptime)\n",
    "# print 1\n",
    "# train['tot_time']=[ (train['dropoff_datetime'][i]-train['pickup_datetime'][i]).total_seconds()  for i in np.arange(nr) ]\n",
    "\n",
    "# print 1\n",
    "# train['tot_time']=train['tot_time']/60\n",
    "# train['tot_time'] = train['tot_time'].round() #rounding to minutes\n",
    "# train['month']=[ x.month for x in train['pickup_datetime']]\n",
    "# train['year']=[x.year for x in train]\n",
    "# train['weekday']=[ x.weekday() for x in train['pickup_datetime']]\n",
    "# train['hour']=[ x.time().hour for x in train['pickup_datetime']]\n",
    "# train['tot_time']=train['month']=train['year']=train['weekday']=train['hour']=np.ones(nr)\n",
    "\n",
    "# for i in np.arange(nr):\n",
    "#     if i%10000==0:\n",
    "#         print i\n",
    "#     d1 = datetime.strptime( train['pickup_datetime'][i] , fmt )\n",
    "#     d2 = datetime.strptime( train['dropoff_datetime'][i] , fmt )\n",
    "    \n",
    "#     if(d2>d1):\n",
    "#         train['tot_time'][i]=round((d2-d1).total_seconds()/60)\n",
    "#     else:\n",
    "#         train['tot_time'][i]=round((d1-d2).total_seconds()/60) #incase data is given wrong, we assume that pick and drop time may have been exchanged\n",
    "    \n",
    "#     train['month'][i]=d1.month\n",
    "#     train['year'][i]=d1.year\n",
    "#     train['weekday'][i]=d1.weekday()\n",
    "#     train['hour'][i]=d1.time().hour\n",
    "\n",
    "train['pickup_datetime']=pd.to_datetime(train['pickup_datetime'])\n",
    "train['dropoff_datetime']=pd.to_datetime(train['dropoff_datetime'])\n",
    "\n",
    "train['tot_time']=(((train['dropoff_datetime']-train['pickup_datetime']).astype('timedelta64[s]'))/60).round()\n",
    "\n",
    "\n",
    "# train['day']= train['pickup_datetime'].dt.day\n",
    "\n",
    "# train['month'] = train['pickup_datetime'].dt.month\n",
    "\n",
    "train['year'] = train['pickup_datetime'].dt.year\n",
    "\n",
    "train['weekday'] = train['pickup_datetime'].dt.dayofweek   \n",
    "\n",
    "train['hour'] = train['pickup_datetime'].dt.hour\n",
    "    "
   ]
  },
  {
   "cell_type": "code",
   "execution_count": 30,
   "metadata": {},
   "outputs": [
    {
     "data": {
      "text/plain": [
       "0          20\n",
       "1          19\n",
       "2           6\n",
       "3          10\n",
       "4          15\n",
       "5          23\n",
       "6          18\n",
       "7           7\n",
       "8           8\n",
       "9          30\n",
       "10         17\n",
       "11          7\n",
       "12         19\n",
       "13         15\n",
       "14         10\n",
       "15          9\n",
       "16          8\n",
       "17         27\n",
       "18         18\n",
       "19         14\n",
       "20         16\n",
       "21          7\n",
       "22         18\n",
       "23         14\n",
       "24          8\n",
       "25          7\n",
       "26         10\n",
       "27         10\n",
       "28         26\n",
       "29         30\n",
       "           ..\n",
       "1658069    30\n",
       "1658070    20\n",
       "1658071    26\n",
       "1658072     5\n",
       "1658073    19\n",
       "1658074     1\n",
       "1658075    11\n",
       "1658076     1\n",
       "1658077    18\n",
       "1658078    19\n",
       "1658079    12\n",
       "1658080    15\n",
       "1658081    29\n",
       "1658082    30\n",
       "1658083    25\n",
       "1658084    30\n",
       "1658085    26\n",
       "1658086    12\n",
       "1658087    19\n",
       "1658088    30\n",
       "1658089     7\n",
       "1658090     5\n",
       "1658091    26\n",
       "1658092    16\n",
       "1658093    17\n",
       "1658094    19\n",
       "1658095    17\n",
       "1658096     3\n",
       "1658097     5\n",
       "1658098    23\n",
       "Name: day, Length: 1658099, dtype: int64"
      ]
     },
     "execution_count": 30,
     "metadata": {},
     "output_type": "execute_result"
    }
   ],
   "source": [
    "train['tot_time']=(((train['dropoff_datetime']-train['pickup_datetime']).astype('timedelta64[s]'))/60).round()\n",
    "train['day']"
   ]
  },
  {
   "cell_type": "code",
   "execution_count": null,
   "metadata": {
    "collapsed": true
   },
   "outputs": [],
   "source": [
    "train['tot_dist'] = [ great_circle( (train['pickup_latitude'][i],train['pickup_longitude'][i]) , (train['dropoff_latitude'][i],train['dropoff_longitude'][i])  ).km   for i in np.arange(nr) ]"
   ]
  },
  {
   "cell_type": "code",
   "execution_count": null,
   "metadata": {
    "collapsed": true
   },
   "outputs": [],
   "source": [
    "useless_cols=['TID','store_and_fwd_flag','fare_amount','dropoff_latitude',''dropoff_longitude]"
   ]
  },
  {
   "cell_type": "code",
   "execution_count": null,
   "metadata": {
    "collapsed": true
   },
   "outputs": [],
   "source": [
    "fmt='%Y-%m-%d %H:%M:%S'\n",
    "a=[1,2,3,4,5]\n",
    "b=['a','b','c','d','e']\n",
    "for x in np.arange(6):\n",
    "    print x,'\\n'"
   ]
  },
  {
   "cell_type": "code",
   "execution_count": null,
   "metadata": {
    "collapsed": true
   },
   "outputs": [],
   "source": [
    "useless_cols=['TID','store_and_fwd_flag','fare_amount']"
   ]
  }
 ],
 "metadata": {
  "kernelspec": {
   "display_name": "Python 2",
   "language": "python",
   "name": "python2"
  },
  "language_info": {
   "codemirror_mode": {
    "name": "ipython",
    "version": 2
   },
   "file_extension": ".py",
   "mimetype": "text/x-python",
   "name": "python",
   "nbconvert_exporter": "python",
   "pygments_lexer": "ipython2",
   "version": "2.7.12"
  }
 },
 "nbformat": 4,
 "nbformat_minor": 2
}

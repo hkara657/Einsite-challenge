{
 "cells": [
  {
   "cell_type": "code",
   "execution_count": 2,
   "metadata": {
    "collapsed": true
   },
   "outputs": [],
   "source": [
    "from matplotlib import pyplot\n",
    "import pandas as pd\n",
    "import numpy as np\n",
    "from datetime import datetime\n",
    "from geopy.distance import vincenty\n",
    "from geopy.distance import great_circle\n",
    "import math"
   ]
  },
  {
   "cell_type": "code",
   "execution_count": 3,
   "metadata": {
    "collapsed": true
   },
   "outputs": [],
   "source": [
    "train=pd.read_csv('/home/harsh/dataset/train.csv')\n",
    "train_fare=train['fare_amount']\n",
    "\n",
    "# test=pd.read_csv('test.csv')"
   ]
  },
  {
   "cell_type": "code",
   "execution_count": 4,
   "metadata": {
    "collapsed": true
   },
   "outputs": [],
   "source": [
    "[nr,nc]=train.shape\n",
    "\n",
    "# temp=train['tip_amount'].mode()\n",
    "# print 'harsh'\n",
    "# print temp\n",
    "# print 'kara'\n",
    "# # train['tip_amount'].fillna(0.0,inplace=True)\n",
    "# # print train.isnull().sum()\n",
    "# train.dtypes\n",
    "\n"
   ]
  },
  {
   "cell_type": "code",
   "execution_count": null,
   "metadata": {
    "collapsed": true
   },
   "outputs": [],
   "source": [
    "# a=pd.DataFrame(np.ones((3,1)))\n",
    "# a['cv']=[1,3,2]\n",
    "# a['klp']=a['poi']=np.ones(3)\n",
    "# a"
   ]
  },
  {
   "cell_type": "code",
   "execution_count": 5,
   "metadata": {
    "collapsed": true
   },
   "outputs": [],
   "source": [
    "fmt='%Y-%m-%d %H:%M:%S'\n",
    "\n",
    "train['pickup_datetime']=pd.to_datetime(train['pickup_datetime'])\n",
    "train['dropoff_datetime']=pd.to_datetime(train['dropoff_datetime'])\n",
    "\n",
    "train['tot_time']=(((train['dropoff_datetime']-train['pickup_datetime']).astype('timedelta64[s]'))/60).round()\n",
    "# train['day']= train['pickup_datetime'].dt.day\n",
    "# train['month'] = train['pickup_datetime'].dt.month\n",
    "train['year'] = train['pickup_datetime'].dt.year\n",
    "\n",
    "train['weekday'] = train['pickup_datetime'].dt.dayofweek   \n",
    "\n",
    "train['hour'] = train['pickup_datetime'].dt.hour\n",
    "    "
   ]
  },
  {
   "cell_type": "code",
   "execution_count": 6,
   "metadata": {},
   "outputs": [
    {
     "name": "stdout",
     "output_type": "stream",
     "text": [
      "35\n",
      "(1658099, 22)\n",
      "(1658064, 22)\n"
     ]
    }
   ],
   "source": [
    "#dropping the instances where the time is -ve\n",
    "a=(train['tot_time']<0)\n",
    "ind=train['tot_time'][a].index\n",
    "print len(ind)\n",
    "print train.shape\n",
    "train.drop(ind,axis=0,inplace=True)\n",
    "print train.shape\n"
   ]
  },
  {
   "cell_type": "code",
   "execution_count": null,
   "metadata": {
    "collapsed": true
   },
   "outputs": [],
   "source": [
    "# train.loc[train.index[[0,1,2,3,4,5]]]\n",
    "# train[['tip_amount']]"
   ]
  },
  {
   "cell_type": "code",
   "execution_count": 7,
   "metadata": {
    "collapsed": true
   },
   "outputs": [],
   "source": [
    "#train.index is used because in case we drop off some of the rows from dataframe, there can still be accessed using the index\n",
    "#suppose we delete the row 2,3,4\n",
    "#then the index of train will have 0,1,5,6,7,...\n",
    "#but if we access the 2nd row  using the train.loc([2]), then the removed row will be accessed.\n",
    "# so we should first find the indices which have the data\n",
    "# however if we use the train.iloc([[2]]) then the 2nd valid row will be accessed.\n",
    "train['tot_dist'] = [ great_circle( (train['pickup_latitude'][i],train['pickup_longitude'][i]) , (train['dropoff_latitude'][i],train['dropoff_longitude'][i])  ).km   for i in train.index ]"
   ]
  },
  {
   "cell_type": "code",
   "execution_count": null,
   "metadata": {
    "collapsed": true
   },
   "outputs": [],
   "source": [
    "#even if the dist=0 and fare is not zero can be a true case, in case of ROUND TRIP\n",
    "#(GO SOMEWHERE AND COMES TO SAME PLACE IN SAME CAB)\n",
    "\n",
    "# a=(train['tot_dist']==0)\n",
    "# ind1=train[a].index\n",
    "\n",
    "# a=(train['fare_amount']==0)\n",
    "# ind2=train[a].index\n",
    "\n",
    "# train.loc[ind1]\n",
    "\n",
    "#see whether to drop these rows or not\n",
    "# train.drop(ind,axis=0,inplace=True)"
   ]
  },
  {
   "cell_type": "code",
   "execution_count": 8,
   "metadata": {},
   "outputs": [
    {
     "name": "stdout",
     "output_type": "stream",
     "text": [
      "Index([u'payment_type_CRD', u'payment_type_CSH', u'payment_type_DIS',\n",
      "       u'payment_type_NOC', u'payment_type_UNK', u'vendor_id_DST000401',\n",
      "       u'vendor_id_DST000481', u'vendor_id_DST000532', u'vendor_id_DST000543',\n",
      "       u'new_user_NO', u'new_user_YES'],\n",
      "      dtype='object')\n"
     ]
    }
   ],
   "source": [
    "categorical_cols=['payment_type','vendor_id','new_user']\n",
    "new_feat = pd.get_dummies(train[categorical_cols])\n",
    "print new_feat.columns\n"
   ]
  },
  {
   "cell_type": "code",
   "execution_count": 9,
   "metadata": {},
   "outputs": [
    {
     "data": {
      "text/plain": [
       "tolls_amount           float64\n",
       "tip_amount             float64\n",
       "mta_tax                float64\n",
       "passenger_count          int64\n",
       "pickup_longitude       float64\n",
       "pickup_latitude        float64\n",
       "rate_code                int64\n",
       "surcharge              float64\n",
       "fare_amount            float64\n",
       "tot_time               float64\n",
       "year                     int64\n",
       "weekday                  int64\n",
       "hour                     int64\n",
       "tot_dist               float64\n",
       "payment_type_CRD         uint8\n",
       "payment_type_CSH         uint8\n",
       "payment_type_DIS         uint8\n",
       "payment_type_NOC         uint8\n",
       "payment_type_UNK         uint8\n",
       "vendor_id_DST000401      uint8\n",
       "vendor_id_DST000481      uint8\n",
       "vendor_id_DST000532      uint8\n",
       "vendor_id_DST000543      uint8\n",
       "new_user_NO              uint8\n",
       "new_user_YES             uint8\n",
       "dtype: object"
      ]
     },
     "execution_count": 9,
     "metadata": {},
     "output_type": "execute_result"
    }
   ],
   "source": [
    "useless_cols=['TID','vendor_id','new_user','pickup_datetime','dropoff_datetime','dropoff_longitude','dropoff_latitude','payment_type','store_and_fwd_flag']\n",
    "train.drop(useless_cols,axis=1,inplace=True)\n",
    "train=pd.concat([train,new_feat],axis=1)\n",
    "train.dtypes"
   ]
  },
  {
   "cell_type": "code",
   "execution_count": 16,
   "metadata": {},
   "outputs": [
    {
     "data": {
      "text/plain": [
       "tolls_amount                0\n",
       "tip_amount             165192\n",
       "mta_tax                     0\n",
       "passenger_count             0\n",
       "pickup_longitude        49809\n",
       "pickup_latitude         33099\n",
       "rate_code                   0\n",
       "surcharge               99172\n",
       "fare_amount                 0\n",
       "tot_time                    0\n",
       "year                        0\n",
       "weekday                     0\n",
       "hour                        0\n",
       "tot_dist                94366\n",
       "payment_type_CRD            0\n",
       "payment_type_CSH            0\n",
       "payment_type_DIS            0\n",
       "payment_type_NOC            0\n",
       "payment_type_UNK            0\n",
       "vendor_id_DST000401         0\n",
       "vendor_id_DST000481         0\n",
       "vendor_id_DST000532         0\n",
       "vendor_id_DST000543         0\n",
       "new_user_NO                 0\n",
       "new_user_YES                0\n",
       "dtype: int64"
      ]
     },
     "execution_count": 16,
     "metadata": {},
     "output_type": "execute_result"
    }
   ],
   "source": [
    "train.isnull().sum()"
   ]
  },
  {
   "cell_type": "code",
   "execution_count": 17,
   "metadata": {},
   "outputs": [
    {
     "data": {
      "text/plain": [
       "tolls_amount           0\n",
       "tip_amount             0\n",
       "mta_tax                0\n",
       "passenger_count        0\n",
       "pickup_longitude       0\n",
       "pickup_latitude        0\n",
       "rate_code              0\n",
       "surcharge              0\n",
       "fare_amount            0\n",
       "tot_time               0\n",
       "year                   0\n",
       "weekday                0\n",
       "hour                   0\n",
       "tot_dist               0\n",
       "payment_type_CRD       0\n",
       "payment_type_CSH       0\n",
       "payment_type_DIS       0\n",
       "payment_type_NOC       0\n",
       "payment_type_UNK       0\n",
       "vendor_id_DST000401    0\n",
       "vendor_id_DST000481    0\n",
       "vendor_id_DST000532    0\n",
       "vendor_id_DST000543    0\n",
       "new_user_NO            0\n",
       "new_user_YES           0\n",
       "dtype: int64"
      ]
     },
     "execution_count": 17,
     "metadata": {},
     "output_type": "execute_result"
    }
   ],
   "source": [
    "#filling the missing values\n",
    "m=train['tip_amount'].mode()[0]\n",
    "train['tip_amount'].fillna(m,inplace=True)\n",
    "\n",
    "m=train['surcharge'].mode()[0]\n",
    "train['surcharge'].fillna(m,inplace=True)\n",
    "\n",
    "m=train['pickup_latitude'].mode()[0]\n",
    "train['pickup_latitude'].fillna(m,inplace=True)\n",
    "\n",
    "m=train['pickup_longitude'].mode()[0]\n",
    "train['pickup_longitude'].fillna(m,inplace=True)\n",
    "\n",
    "m=train['tot_dist'].mode()[0]\n",
    "train['tot_dist'].fillna(m,inplace=True)\n",
    "\n",
    "train.isnull().sum()\n",
    "\n",
    "# a=pd.Series([2,1,np.nan,5,2,1,1,1,4])\n",
    "# print m.mode()[0]"
   ]
  },
  {
   "cell_type": "code",
   "execution_count": 31,
   "metadata": {},
   "outputs": [
    {
     "name": "stdout",
     "output_type": "stream",
     "text": [
      "[1, 3, 5]\n"
     ]
    },
    {
     "data": {
      "text/html": [
       "<div>\n",
       "<style>\n",
       "    .dataframe thead tr:only-child th {\n",
       "        text-align: right;\n",
       "    }\n",
       "\n",
       "    .dataframe thead th {\n",
       "        text-align: left;\n",
       "    }\n",
       "\n",
       "    .dataframe tbody tr th {\n",
       "        vertical-align: top;\n",
       "    }\n",
       "</style>\n",
       "<table border=\"1\" class=\"dataframe\">\n",
       "  <thead>\n",
       "    <tr style=\"text-align: right;\">\n",
       "      <th></th>\n",
       "      <th>tolls_amount</th>\n",
       "      <th>tip_amount</th>\n",
       "      <th>mta_tax</th>\n",
       "      <th>passenger_count</th>\n",
       "      <th>pickup_longitude</th>\n",
       "      <th>pickup_latitude</th>\n",
       "      <th>rate_code</th>\n",
       "      <th>surcharge</th>\n",
       "      <th>fare_amount</th>\n",
       "      <th>tot_time</th>\n",
       "      <th>...</th>\n",
       "      <th>payment_type_CSH</th>\n",
       "      <th>payment_type_DIS</th>\n",
       "      <th>payment_type_NOC</th>\n",
       "      <th>payment_type_UNK</th>\n",
       "      <th>vendor_id_DST000401</th>\n",
       "      <th>vendor_id_DST000481</th>\n",
       "      <th>vendor_id_DST000532</th>\n",
       "      <th>vendor_id_DST000543</th>\n",
       "      <th>new_user_NO</th>\n",
       "      <th>new_user_YES</th>\n",
       "    </tr>\n",
       "  </thead>\n",
       "  <tbody>\n",
       "    <tr>\n",
       "      <th>1</th>\n",
       "      <td>0.0</td>\n",
       "      <td>1.0</td>\n",
       "      <td>0.5</td>\n",
       "      <td>3</td>\n",
       "      <td>-73.973864</td>\n",
       "      <td>40.752194</td>\n",
       "      <td>1</td>\n",
       "      <td>0.0</td>\n",
       "      <td>8.5</td>\n",
       "      <td>6.0</td>\n",
       "      <td>...</td>\n",
       "      <td>0</td>\n",
       "      <td>0</td>\n",
       "      <td>0</td>\n",
       "      <td>0</td>\n",
       "      <td>1</td>\n",
       "      <td>0</td>\n",
       "      <td>0</td>\n",
       "      <td>0</td>\n",
       "      <td>1</td>\n",
       "      <td>0</td>\n",
       "    </tr>\n",
       "    <tr>\n",
       "      <th>3</th>\n",
       "      <td>0.0</td>\n",
       "      <td>1.8</td>\n",
       "      <td>0.5</td>\n",
       "      <td>2</td>\n",
       "      <td>-73.962345</td>\n",
       "      <td>40.767215</td>\n",
       "      <td>1</td>\n",
       "      <td>0.0</td>\n",
       "      <td>11.3</td>\n",
       "      <td>12.0</td>\n",
       "      <td>...</td>\n",
       "      <td>0</td>\n",
       "      <td>0</td>\n",
       "      <td>0</td>\n",
       "      <td>0</td>\n",
       "      <td>0</td>\n",
       "      <td>0</td>\n",
       "      <td>1</td>\n",
       "      <td>0</td>\n",
       "      <td>1</td>\n",
       "      <td>0</td>\n",
       "    </tr>\n",
       "    <tr>\n",
       "      <th>5</th>\n",
       "      <td>0.0</td>\n",
       "      <td>2.4</td>\n",
       "      <td>0.5</td>\n",
       "      <td>1</td>\n",
       "      <td>-73.995571</td>\n",
       "      <td>40.716019</td>\n",
       "      <td>1</td>\n",
       "      <td>0.0</td>\n",
       "      <td>14.4</td>\n",
       "      <td>12.0</td>\n",
       "      <td>...</td>\n",
       "      <td>0</td>\n",
       "      <td>0</td>\n",
       "      <td>0</td>\n",
       "      <td>0</td>\n",
       "      <td>1</td>\n",
       "      <td>0</td>\n",
       "      <td>0</td>\n",
       "      <td>0</td>\n",
       "      <td>1</td>\n",
       "      <td>0</td>\n",
       "    </tr>\n",
       "  </tbody>\n",
       "</table>\n",
       "<p>3 rows × 25 columns</p>\n",
       "</div>"
      ],
      "text/plain": [
       "   tolls_amount  tip_amount  mta_tax  passenger_count  pickup_longitude  \\\n",
       "1           0.0         1.0      0.5                3        -73.973864   \n",
       "3           0.0         1.8      0.5                2        -73.962345   \n",
       "5           0.0         2.4      0.5                1        -73.995571   \n",
       "\n",
       "   pickup_latitude  rate_code  surcharge  fare_amount  tot_time      ...       \\\n",
       "1        40.752194          1        0.0          8.5       6.0      ...        \n",
       "3        40.767215          1        0.0         11.3      12.0      ...        \n",
       "5        40.716019          1        0.0         14.4      12.0      ...        \n",
       "\n",
       "   payment_type_CSH  payment_type_DIS  payment_type_NOC  payment_type_UNK  \\\n",
       "1                 0                 0                 0                 0   \n",
       "3                 0                 0                 0                 0   \n",
       "5                 0                 0                 0                 0   \n",
       "\n",
       "   vendor_id_DST000401  vendor_id_DST000481  vendor_id_DST000532  \\\n",
       "1                    1                    0                    0   \n",
       "3                    0                    0                    1   \n",
       "5                    1                    0                    0   \n",
       "\n",
       "   vendor_id_DST000543  new_user_NO  new_user_YES  \n",
       "1                    0            1             0  \n",
       "3                    0            1             0  \n",
       "5                    0            1             0  \n",
       "\n",
       "[3 rows x 25 columns]"
      ]
     },
     "execution_count": 31,
     "metadata": {},
     "output_type": "execute_result"
    }
   ],
   "source": [
    "a=[1,2,3,4,5]\n",
    "b=[2,4]\n",
    "c=set(a)-set(b)\n",
    "print list(c)\n",
    "train.loc[list(c)]"
   ]
  },
  {
   "cell_type": "code",
   "execution_count": 32,
   "metadata": {},
   "outputs": [
    {
     "name": "stdout",
     "output_type": "stream",
     "text": [
      "(1142170, 25)\n",
      "(515894, 25)\n"
     ]
    }
   ],
   "source": [
    "a=(train['year']<=2015)\n",
    "ind=train[a].index\n",
    "\n",
    "train_2015=train.loc[ind]\n",
    "print train_2015.shape\n",
    "\n",
    "train_2016=train.loc[set(train.index)-set(ind)]\n",
    "print train_2016.shape"
   ]
  },
  {
   "cell_type": "code",
   "execution_count": null,
   "metadata": {},
   "outputs": [],
   "source": [
    "from sklearn.model_selection import KFold\n",
    "from sklearn.model_selection import cross_val_score\n",
    "from sklearn.tree import DecisionTreeRegressor\n",
    "X = train_2016[list(set(train_2016.columns)-set(['fare_amount']))]\n",
    "Y = train_2016['fare_amount']\n",
    "num_folds = 10\n",
    "kfold = KFold(n_splits=10, random_state=7)\n",
    "model = DecisionTreeRegressor()\n",
    "scoring = 'neg_mean_absolute_error'\n",
    "results = cross_val_score(model, X, Y, cv=kfold, scoring=scoring)\n",
    "print 'cross-val-error is'\n",
    "print(results.mean())\n"
   ]
  },
  {
   "cell_type": "code",
   "execution_count": 39,
   "metadata": {},
   "outputs": [
    {
     "name": "stdout",
     "output_type": "stream",
     "text": [
      "training over\n"
     ]
    },
    {
     "data": {
      "text/plain": [
       "1.41356833675677"
      ]
     },
     "execution_count": 39,
     "metadata": {},
     "output_type": "execute_result"
    }
   ],
   "source": [
    "X_2015= train_2015[list(set(train_2015.columns)-set(['fare_amount']))]\n",
    "Y_2015 = train_2015['fare_amount']\n",
    "model=DecisionTreeRegressor()\n",
    "model.fit(X_2015,Y_2015)\n",
    "\n",
    "print 'training over'\n",
    "X_2016= train_2016[list(set(train_2016.columns)-set(['fare_amount']))]\n",
    "Y_2016 = train_2016['fare_amount']\n",
    "predict = model.predict(X_2016)\n",
    "\n",
    "((predict-Y_2016).abs().sum())/X_2016.shape[0]"
   ]
  }
 ],
 "metadata": {
  "kernelspec": {
   "display_name": "Python 2",
   "language": "python",
   "name": "python2"
  },
  "language_info": {
   "codemirror_mode": {
    "name": "ipython",
    "version": 2
   },
   "file_extension": ".py",
   "mimetype": "text/x-python",
   "name": "python",
   "nbconvert_exporter": "python",
   "pygments_lexer": "ipython2",
   "version": "2.7.12"
  }
 },
 "nbformat": 4,
 "nbformat_minor": 2
}

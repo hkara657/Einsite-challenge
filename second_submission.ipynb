{
 "cells": [
  {
   "cell_type": "code",
   "execution_count": 2,
   "metadata": {
    "collapsed": true
   },
   "outputs": [],
   "source": [
    "from matplotlib import pyplot\n",
    "import pandas as pd\n",
    "import numpy as np\n",
    "from datetime import datetime\n",
    "from geopy.distance import vincenty\n",
    "from geopy.distance import great_circle\n",
    "import math"
   ]
  },
  {
   "cell_type": "code",
   "execution_count": 1,
   "metadata": {
    "collapsed": false
   },
   "outputs": [
    {
     "ename": "NameError",
     "evalue": "name 'pd' is not defined",
     "output_type": "error",
     "traceback": [
      "\u001b[0;31m---------------------------------------------------------------------------\u001b[0m",
      "\u001b[0;31mNameError\u001b[0m                                 Traceback (most recent call last)",
      "\u001b[0;32m<ipython-input-1-dfdaf5cd198e>\u001b[0m in \u001b[0;36m<module>\u001b[0;34m()\u001b[0m\n\u001b[0;32m----> 1\u001b[0;31m \u001b[0mtrain\u001b[0m\u001b[0;34m=\u001b[0m\u001b[0mpd\u001b[0m\u001b[0;34m.\u001b[0m\u001b[0mread_csv\u001b[0m\u001b[0;34m(\u001b[0m\u001b[0;34m'train.csv'\u001b[0m\u001b[0;34m)\u001b[0m\u001b[0;34m\u001b[0m\u001b[0m\n\u001b[0m\u001b[1;32m      2\u001b[0m \u001b[0mtrain_fare\u001b[0m\u001b[0;34m=\u001b[0m\u001b[0mtrain\u001b[0m\u001b[0;34m[\u001b[0m\u001b[0;34m'fare_amount'\u001b[0m\u001b[0;34m]\u001b[0m\u001b[0;34m\u001b[0m\u001b[0m\n\u001b[1;32m      3\u001b[0m \u001b[0;34m\u001b[0m\u001b[0m\n\u001b[1;32m      4\u001b[0m \u001b[0;31m# test=pd.read_csv('test.csv')\u001b[0m\u001b[0;34m\u001b[0m\u001b[0;34m\u001b[0m\u001b[0m\n",
      "\u001b[0;31mNameError\u001b[0m: name 'pd' is not defined"
     ]
    }
   ],
   "source": [
    "train=pd.read_csv('train.csv')\n",
    "train_fare=train['fare_amount']\n",
    "\n",
    "# test=pd.read_csv('test.csv')"
   ]
  },
  {
   "cell_type": "code",
   "execution_count": null,
   "metadata": {
    "collapsed": false
   },
   "outputs": [],
   "source": [
    "[nr,nc]=train.shape\n",
    "\n",
    "temp=train['tip_amount'].mode()\n",
    "print 'harsh'\n",
    "print temp\n",
    "print 'kara'\n",
    "# train['tip_amount'].fillna(0.0,inplace=True)\n",
    "# print train.isnull().sum()\n",
    "\n",
    "\n"
   ]
  },
  {
   "cell_type": "code",
   "execution_count": null,
   "metadata": {
    "collapsed": false
   },
   "outputs": [],
   "source": [
    "a=pd.DataFrame(np.ones((3,1)))\n",
    "a['cv']=[1,3,2]\n",
    "a['klp']=a['poi']=np.ones(3)\n",
    "a"
   ]
  },
  {
   "cell_type": "code",
   "execution_count": null,
   "metadata": {
    "collapsed": false,
    "scrolled": true
   },
   "outputs": [],
   "source": [
    "fmt='%Y-%m-%d %H:%M:%S'\n",
    "# train['pickup_datetime']=train['pickup_datetime'].apply(args=[fmt],func=datetime.strptime)\n",
    "# print 1\n",
    "# train['dropoff_datetime']=train['dropoff_datetime'].apply(args=[fmt],func=datetime.strptime)\n",
    "# print 1\n",
    "# train['tot_time']=[ (train['dropoff_datetime'][i]-train['pickup_datetime'][i]).total_seconds()  for i in np.arange(nr) ]\n",
    "\n",
    "# print 1\n",
    "# train['tot_time']=train['tot_time']/60\n",
    "# train['tot_time'] = train['tot_time'].round() #rounding to minutes\n",
    "# train['month']=[ x.month for x in train['pickup_datetime']]\n",
    "# train['year']=[x.year for x in train]\n",
    "# train['weekday']=[ x.weekday() for x in train['pickup_datetime']]\n",
    "# train['hour']=[ x.time().hour for x in train['pickup_datetime']]\n",
    "train['tot_time']=train['month']=train['year']=train['weekday']=train['hour']=np.ones(nr)\n",
    "\n",
    "for i in np.arange(nr):\n",
    "    d1 = datetime.strptime( train['pickup_datetime'][i] , fmt )\n",
    "    d2 = datetime.strptime( train['dropoff_datetime'][i] , fmt )\n",
    "    \n",
    "    if(d2>d1):\n",
    "        train['tot_time'][i]=round((d2-d1).total_seconds()/60)\n",
    "    else:\n",
    "        train['tot_time'][i]=round((d1-d2).total_seconds()/60) #incase data is given wrong, we assume that pick and drop time may have been exchanged\n",
    "    \n",
    "    train['month'][i]=d1.month\n",
    "    train['year'][i]=d1.year\n",
    "    train['weekday'][i]=d1.weekday()\n",
    "    train['hour'][i]=d1.time().hour\n",
    "    \n",
    "    "
   ]
  },
  {
   "cell_type": "code",
   "execution_count": null,
   "metadata": {
    "collapsed": false
   },
   "outputs": [],
   "source": [
    "train['tot_dist'] = [ great_circle( (train['pickup_latitude'][i],train['pickup_longitude'][i]) , (train['dropoff_latitude'][i],train['dropoff_longitude'][i])  ).km   for i in np.arange(nr) ]"
   ]
  },
  {
   "cell_type": "code",
   "execution_count": null,
   "metadata": {
    "collapsed": true
   },
   "outputs": [],
   "source": [
    "useless_cols=['TID','store_and_fwd_flag','fare_amount','dropoff_latitude',''dropoff_longitude]"
   ]
  },
  {
   "cell_type": "code",
   "execution_count": null,
   "metadata": {
    "collapsed": true
   },
   "outputs": [],
   "source": [
    "fmt='%Y-%m-%d %H:%M:%S'\n",
    "a=[1,2,3,4,5]\n",
    "b=['a','b','c','d','e']\n",
    "for x in np.arange(6):\n",
    "    print x,'\\n'"
   ]
  },
  {
   "cell_type": "code",
   "execution_count": null,
   "metadata": {
    "collapsed": true
   },
   "outputs": [],
   "source": [
    "useless_cols=['TID','store_and_fwd_flag','fare_amount']"
   ]
  }
 ],
 "metadata": {
  "kernelspec": {
   "display_name": "Python 2",
   "language": "python",
   "name": "python2"
  },
  "language_info": {
   "codemirror_mode": {
    "name": "ipython",
    "version": 2
   },
   "file_extension": ".py",
   "mimetype": "text/x-python",
   "name": "python",
   "nbconvert_exporter": "python",
   "pygments_lexer": "ipython2",
   "version": "2.7.12"
  }
 },
 "nbformat": 4,
 "nbformat_minor": 2
}

{
 "cells": [
  {
   "cell_type": "code",
   "execution_count": 2,
   "metadata": {
    "collapsed": false
   },
   "outputs": [],
   "source": [
    "from matplotlib import pyplot\n",
    "import pandas as pa\n",
    "import numpy as np"
   ]
  },
  {
   "cell_type": "code",
   "execution_count": 4,
   "metadata": {
    "collapsed": false
   },
   "outputs": [
    {
     "name": "stdout",
     "output_type": "stream",
     "text": [
      "(1658099, 18)\n"
     ]
    }
   ],
   "source": [
    "dataframe=pa.read_csv('train.csv')\n",
    "print dataframe.shape"
   ]
  },
  {
   "cell_type": "code",
   "execution_count": 5,
   "metadata": {
    "collapsed": false
   },
   "outputs": [
    {
     "name": "stdout",
     "output_type": "stream",
     "text": [
      "TID                    object\n",
      "vendor_id              object\n",
      "new_user               object\n",
      "tolls_amount          float64\n",
      "tip_amount            float64\n",
      "mta_tax               float64\n",
      "pickup_datetime        object\n",
      "dropoff_datetime       object\n",
      "passenger_count         int64\n",
      "pickup_longitude      float64\n",
      "pickup_latitude       float64\n",
      "rate_code               int64\n",
      "store_and_fwd_flag     object\n",
      "dropoff_longitude     float64\n",
      "dropoff_latitude      float64\n",
      "payment_type           object\n",
      "surcharge             float64\n",
      "fare_amount           float64\n",
      "dtype: object\n"
     ]
    }
   ],
   "source": [
    "print dataframe.dtypes\n"
   ]
  },
  {
   "cell_type": "code",
   "execution_count": 6,
   "metadata": {
    "collapsed": false
   },
   "outputs": [
    {
     "name": "stdout",
     "output_type": "stream",
     "text": [
      "1444.01666667\n"
     ]
    }
   ],
   "source": [
    "from datetime import datetime\n",
    "fmt='%Y-%m-%d %H:%M:%S'\n",
    "d1 = datetime.strptime('2010-01-01 17:31:22', fmt)\n",
    "d2 = datetime.strptime('2010-01-02 17:35:23', fmt)\n",
    "diff=d2-d1\n",
    "print diff.total_seconds()/60.0"
   ]
  },
  {
   "cell_type": "code",
   "execution_count": 22,
   "metadata": {
    "collapsed": false
   },
   "outputs": [
    {
     "name": "stdout",
     "output_type": "stream",
     "text": [
      "2.65616193256\n"
     ]
    }
   ],
   "source": [
    "from geopy.distance import great_circle\n",
    "loc1 = (40.7367553710938, -74.0055923461914)\n",
    "loc2 = (40.726387023925795 , -73.9772033691406)\n",
    "print(great_circle(loc2, loc1).km)"
   ]
  },
  {
   "cell_type": "code",
   "execution_count": 7,
   "metadata": {
    "collapsed": false
   },
   "outputs": [
    {
     "name": "stdout",
     "output_type": "stream",
     "text": [
      "(1658099, 18)\n"
     ]
    }
   ],
   "source": [
    "data=dataframe.values\n",
    "print data.shape\n",
    "# print data[165897:]"
   ]
  },
  {
   "cell_type": "code",
   "execution_count": 25,
   "metadata": {
    "collapsed": false
   },
   "outputs": [
    {
     "name": "stdout",
     "output_type": "stream",
     "text": [
      "['AIX000510810' 'DST000532' 'NO' 0.0 0.0 0.5 '2015-02-25 16:20:00'\n",
      " '2015-02-25 16:44:00' 6 -73.996352 40.748155 1 nan -74.012105\n",
      " 40.706759999999996 'CSH' 1.0 22.0]\n"
     ]
    }
   ],
   "source": [
    "print data[165809]"
   ]
  },
  {
   "cell_type": "code",
   "execution_count": 21,
   "metadata": {
    "collapsed": false
   },
   "outputs": [
    {
     "name": "stdout",
     "output_type": "stream",
     "text": [
      "2.65616193256\n"
     ]
    }
   ],
   "source": [
    "# a=np.arange(1,18)\n",
    "# a=np.square(dataframe['pickup_longitude']-dataframe['dropoff_longitude'])+np.square(dataframe['pickup_latitude']-dataframe['dropoff_latitude'])\n",
    "# b=np.sqrt(a)\n",
    "# print a\n",
    "# print b\n"
   ]
  }
 ],
 "metadata": {
  "kernelspec": {
   "display_name": "Python 2",
   "language": "python",
   "name": "python2"
  },
  "language_info": {
   "codemirror_mode": {
    "name": "ipython",
    "version": 2
   },
   "file_extension": ".py",
   "mimetype": "text/x-python",
   "name": "python",
   "nbconvert_exporter": "python",
   "pygments_lexer": "ipython2",
   "version": "2.7.12"
  }
 },
 "nbformat": 4,
 "nbformat_minor": 2
}

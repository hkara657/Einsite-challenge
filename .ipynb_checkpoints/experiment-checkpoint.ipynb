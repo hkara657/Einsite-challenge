{
 "cells": [
  {
   "cell_type": "code",
   "execution_count": null,
   "metadata": {},
   "outputs": [],
   "source": [
    "import pandas as pd\n",
    "import numpy as np\n",
    "import seaborn as sns\n",
    "%matplotlib inline"
   ]
  },
  {
   "cell_type": "code",
   "execution_count": null,
   "metadata": {},
   "outputs": [],
   "source": [
    "train = pd.read_csv('train.csv')\n",
    "test = pd.read_csv('test.csv') "
   ]
  },
  {
   "cell_type": "code",
   "execution_count": null,
   "metadata": {},
   "outputs": [],
   "source": [
    "print train.shape\n",
    "# num_cols = train.drop_duplicates()\n",
    "print train.columns\n",
    "# print train.count()\n",
    "# print train.corr()\n",
    "# print train.get_dtype_counts()\n",
    "# print train.values\n",
    "# print train._get_numeric_data().get_dtype_counts()\n",
    "\n",
    "print train.loc[:,('pickup_datetime','dropoff_datetime','tot_time')]"
   ]
  },
  {
   "cell_type": "code",
   "execution_count": null,
   "metadata": {
    "collapsed": true
   },
   "outputs": [],
   "source": [
    "temp=train._get_numeric_data()\n",
    "num_cols=temp.columns\n",
    "temp=train[num_cols]\n",
    "# temp=temp.values\n",
    "print num_cols,len(num_cols)\n",
    "corr = temp.corr()\n",
    "print corr.shape,temp.shape\n",
    "import matplotlib.pyplot as plt\n",
    "f, ax = plt.subplots(figsize=(12, 12))\n",
    "sns.heatmap(corr.values,xticklabels=num_cols, yticklabels=num_cols , ax=ax)"
   ]
  },
  {
   "cell_type": "code",
   "execution_count": null,
   "metadata": {},
   "outputs": [],
   "source": [
    "x=[[1,2,3],[2,1,5],[10,0==1,1==1]]\n",
    "print x\n",
    "dt=pd.DataFrame(x,columns=['a','b','c'])\n",
    "print dt"
   ]
  },
  {
   "cell_type": "code",
   "execution_count": null,
   "metadata": {},
   "outputs": [],
   "source": [
    "print dt.isin(values=[0,3]),'\\n'\n",
    "\n",
    "z=dt.isin(values=[0,3]).sum(axis=0) #by default axis=0\n",
    "print z,'\\n'\n",
    "\n",
    "z=dt.isin(values=[0,3]).sum(axis=1)\n",
    "print z,'\\n'\n",
    "\n",
    "dt['a'][2]=2*dt['a'][2]\n",
    "print dt,'\\n'\n",
    "# print z\n",
    "# print dt.isnull()"
   ]
  },
  {
   "cell_type": "code",
   "execution_count": null,
   "metadata": {
    "collapsed": true
   },
   "outputs": [],
   "source": [
    "# print dt,'\\n'\n",
    "# col=set(['a','c'])\n",
    "# dtc=set(dt.columns)\n",
    "# if len(dtc.intersection(col))>0:\n",
    "#     cl=list(dtc.intersection(col))\n",
    "#     dt.drop(cl.extend('k'),inplace=True,axis=1)\n",
    "# print dt\n",
    "# print isinstance(dt, pd.DataFrame)\n",
    "# print isinstance(dt[['a']], pd.DataFrame)\n",
    "# print dt[['a']]\n",
    "# a=[1,np.nan,3,5,np.nan]\n",
    "# print a.fillna(0.0,inplace=True)\n",
    "# print [i for i,x in enumerate(a) if x is np.nan]\n",
    "# e=enumerate(a)\n",
    "# print e\n",
    "# print e.next()\n",
    "# print e.next()\n",
    "dt['e']=['1',np.nan,'2']\n",
    "print dt,'\\n'\n",
    "print dt.fillna(9.0,inplace=False)\n",
    "dt['e'].fillna(0.0,inplace=True)\n",
    "print dt,'\\n'\n",
    "\n",
    "x=dt['e']\n",
    "\n",
    "print type(dt)\n",
    "print type(dt['e'])\n",
    "\n",
    "a=['1',np.nan,'2']\n",
    "a.fillna(0.0,inplace=True)  #gives error\n",
    "print a\n"
   ]
  },
  {
   "cell_type": "code",
   "execution_count": null,
   "metadata": {
    "scrolled": true
   },
   "outputs": [],
   "source": [
    "print dt\n",
    "a"
   ]
  },
  {
   "cell_type": "code",
   "execution_count": null,
   "metadata": {
    "collapsed": true
   },
   "outputs": [],
   "source": [
    "print train.shape\n",
    "t=train[['TID','vendor_id','new_user']]\n",
    "print t.columns\n",
    "x=t.drop(['TID'],axis=1)\n",
    "# print x.columns\n",
    "y=t.isnull()\n",
    "print dt\n",
    "# dt['e'][1]=np.nan\n",
    "print dt.sum(),'\\n'\n",
    "\n",
    "print dt['e'].value_counts(),'\\n'\n",
    "print dt['e'].isnull().sum(),'\\n'"
   ]
  },
  {
   "cell_type": "code",
   "execution_count": null,
   "metadata": {
    "collapsed": true
   },
   "outputs": [],
   "source": [
    "#VALUE COUNTS\n",
    "print dt\n",
    "print dt['e'].value_counts(),'\\n'   #important for CATEGORICAL VARIABLES\n",
    "print train.shape\n",
    "x=train['pickup_longitude']\n",
    "dic=x.value_counts()\n",
    "z=dic.index  #to find the row names\n",
    "s=0\n",
    "for i in z:\n",
    "    s=s+dic[i]\n",
    "print s\n",
    "train['pickup_longitude'].isnull().sum()"
   ]
  },
  {
   "cell_type": "code",
   "execution_count": 20,
   "metadata": {},
   "outputs": [
    {
     "data": {
      "text/plain": [
       "11"
      ]
     },
     "execution_count": 20,
     "metadata": {},
     "output_type": "execute_result"
    }
   ],
   "source": [
    "from datetime import datetime\n",
    "# print type(train['pickup_datetime'][0])\n",
    "fmt='%Y-%m-%d %H:%M:%S'\n",
    "# print train.dtypes\n",
    "d=datetime.strptime('2017-05-27 11:24:20',fmt)\n",
    "time=d.time()\n",
    "time.hour"
   ]
  },
  {
   "cell_type": "code",
   "execution_count": null,
   "metadata": {},
   "outputs": [],
   "source": [
    "# tt=[1,2,3,4]\n",
    "# tt=pd.Series(tt)\n",
    "# print type(tt)\n",
    "# print tt.sum()\n",
    "# tt=tt.apply(func=str)\n",
    "# print tt.sum()\n",
    "# print train.dtypes\n",
    "print train['pickup_datetime'].dtype\n",
    "print type(train['pickup_datetime'])\n",
    "train['pickup_datetime']=train['pickup_datetime'].apply(args=[fmt],func=datetime.strptime)\n",
    "train['dropoff_datetime']=train['dropoff_datetime'].apply(args=[fmt],func=datetime.strptime)"
   ]
  },
  {
   "cell_type": "code",
   "execution_count": null,
   "metadata": {},
   "outputs": [],
   "source": [
    "# err=train['pickup_datetime']>train['dropoff_datetime']\n",
    "# ind = [ i for i,x in enumerate(err) if x==True]\n",
    "print ind\n",
    "train.loc[[437,438]]\n",
    "# train.loc[[437,438]][['TID']]"
   ]
  },
  {
   "cell_type": "code",
   "execution_count": null,
   "metadata": {},
   "outputs": [],
   "source": [
    "train['timediff']=train['dropoff_datetime']-train['pickup_datetime']\n",
    "print train['timediff'].dtype\n",
    "d=datetime.today()\n",
    "print d"
   ]
  },
  {
   "cell_type": "code",
   "execution_count": null,
   "metadata": {},
   "outputs": [],
   "source": [
    "# x=[i.total_seconds() for i in train['timediff'] ]\n",
    "# print np.round(x)\n",
    "# d2=datetime.today()\n",
    "\n",
    "max(x)"
   ]
  },
  {
   "cell_type": "code",
   "execution_count": null,
   "metadata": {},
   "outputs": [],
   "source": [
    "# print str(train['dropoff_datetime'][1])\n",
    "# print train.dtypes\n",
    "d1 = datetime.strptime(str(train['dropoff_datetime'][1]), fmt)\n",
    "d2 = datetime.strptime(str(train['pickup_datetime'][1]), fmt)\n",
    "print d1,d2\n",
    "diff=d1-d2\n",
    "print diff.total_seconds()\n",
    "print type(diff)\n",
    "\n",
    "\n",
    "# x=train['timediff']\n",
    "# # print x\n",
    "# # datetime.timedelta\n",
    "# x.apply(func=)\n",
    "# # datetime.timedel\n",
    "# print x"
   ]
  },
  {
   "cell_type": "code",
   "execution_count": null,
   "metadata": {},
   "outputs": [],
   "source": [
    "# datetime.strptime(train[['pickup_datetime']],fmt)\n",
    "\n",
    "train['pickup_datetime']=train['pickup_datetime'].apply(datetime.strptime , args=[fmt] , axis=1)\n",
    "# train['pickup_datetime'].dtype\n",
    "\n",
    "# train['pickup_datetime']=pd.to_datetime(train['pickup_datetime'])\n",
    "train['dropoff_datetime']=pd.to_datetime(train['dropoff_datetime'])\n",
    "x=train['time']=train['dropoff_datetime']-train['pickup_datetime']\n",
    "print train['dropoff_datetime'].dtype\n",
    "print x.dtype\n",
    "# train['time'].apply(total_seconds())\n",
    "# train['time'].total\n",
    "# diff=d2-d1\n",
    "# pro_data[i,1]=diff.total_seconds()/60.0   #t\n",
    "# pd.datetime.strptime(train['pickup_datetime'],fmt)\n",
    "# type(train['pickup_datetime'])"
   ]
  },
  {
   "cell_type": "code",
   "execution_count": null,
   "metadata": {
    "collapsed": true
   },
   "outputs": [],
   "source": [
    "\n",
    "for i in np.arange(nr):\n",
    "    \n",
    "    if i%10000==0:\n",
    "        print i\n",
    "    d1 = datetime.strptime(str(data[i,6]), fmt)\n",
    "    d2 = datetime.strptime(str(data[i,7]), fmt)\n",
    "    diff=d2-d1\n",
    "    pro_data[i,1]=diff.total_seconds()/60.0   #total journey time\n",
    "    "
   ]
  }
 ],
 "metadata": {
  "kernelspec": {
   "display_name": "Python 2",
   "language": "python",
   "name": "python2"
  },
  "language_info": {
   "codemirror_mode": {
    "name": "ipython",
    "version": 2
   },
   "file_extension": ".py",
   "mimetype": "text/x-python",
   "name": "python",
   "nbconvert_exporter": "python",
   "pygments_lexer": "ipython2",
   "version": "2.7.12"
  }
 },
 "nbformat": 4,
 "nbformat_minor": 2
}
